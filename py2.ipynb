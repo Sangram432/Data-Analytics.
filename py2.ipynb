{
 "cells": [
  {
   "cell_type": "code",
   "execution_count": 1,
   "id": "8b20e5c4-9c3f-4a38-bbde-29e2eba4f8cb",
   "metadata": {},
   "outputs": [
    {
     "name": "stdout",
     "output_type": "stream",
     "text": [
      "S\n",
      "a\n",
      "n\n",
      "g\n",
      "r\n",
      "a\n",
      "m\n"
     ]
    }
   ],
   "source": [
    "a = \"Sangram\"\n",
    "\n",
    "for i in a :\n",
    "    print(i)"
   ]
  },
  {
   "cell_type": "code",
   "execution_count": 2,
   "id": "795146cc-46b7-4ccc-97e9-4ae9a5ed1ddd",
   "metadata": {},
   "outputs": [
    {
     "name": "stdout",
     "output_type": "stream",
     "text": [
      "S\n",
      "a\n",
      "n\n"
     ]
    }
   ],
   "source": [
    "for i in a :\n",
    "    if i == \"g\":\n",
    "        break\n",
    "    print(i)"
   ]
  },
  {
   "cell_type": "code",
   "execution_count": 3,
   "id": "c57b3f3b-4d86-4c2a-a707-86a962c8155c",
   "metadata": {},
   "outputs": [
    {
     "name": "stdout",
     "output_type": "stream",
     "text": [
      "S\n",
      "a\n",
      "n\n",
      "r\n",
      "a\n",
      "m\n"
     ]
    }
   ],
   "source": [
    "for i in a :\n",
    "    if i ==\"g\":\n",
    "        continue \n",
    "    print(i)"
   ]
  },
  {
   "cell_type": "code",
   "execution_count": 6,
   "id": "5ea6698e-55f7-4ec7-80e2-5c24501b8fd6",
   "metadata": {},
   "outputs": [
    {
     "name": "stdout",
     "output_type": "stream",
     "text": [
      "g\n"
     ]
    }
   ],
   "source": [
    "for i in a :\n",
    "    if i !=\"g\":\n",
    "        continue \n",
    "        \n",
    "\n",
    "    print(i)"
   ]
  },
  {
   "cell_type": "code",
   "execution_count": 7,
   "id": "7221673f-8be7-4fbb-8ec3-85b46aef007c",
   "metadata": {},
   "outputs": [
    {
     "data": {
      "text/plain": [
       "[0, 1, 2, 3, 4, 5, 6, 7, 8, 9]"
      ]
     },
     "execution_count": 7,
     "metadata": {},
     "output_type": "execute_result"
    }
   ],
   "source": [
    "list(range(0,10))"
   ]
  },
  {
   "cell_type": "code",
   "execution_count": 8,
   "id": "51797437-d1d5-43a9-ace6-c16e48ba428c",
   "metadata": {},
   "outputs": [
    {
     "data": {
      "text/plain": [
       "[0, 2, 4, 6, 8]"
      ]
     },
     "execution_count": 8,
     "metadata": {},
     "output_type": "execute_result"
    }
   ],
   "source": [
    "list(range(0,10,2))"
   ]
  },
  {
   "cell_type": "code",
   "execution_count": 10,
   "id": "874e2794-4831-4d5d-a1c2-50c2ab8370ed",
   "metadata": {},
   "outputs": [
    {
     "data": {
      "text/plain": [
       "[0, 3, 6, 9]"
      ]
     },
     "execution_count": 10,
     "metadata": {},
     "output_type": "execute_result"
    }
   ],
   "source": [
    "list(range(0,10,3))"
   ]
  },
  {
   "cell_type": "code",
   "execution_count": 11,
   "id": "8cd15b38-c49c-44a7-8231-86b709cd7df5",
   "metadata": {},
   "outputs": [
    {
     "data": {
      "text/plain": [
       "[0, 1, 2, 3, 4, 5, 6, 7, 8, 9]"
      ]
     },
     "execution_count": 11,
     "metadata": {},
     "output_type": "execute_result"
    }
   ],
   "source": [
    "list(range(10))"
   ]
  },
  {
   "cell_type": "code",
   "execution_count": 14,
   "id": "10841eaf-73cc-47a4-8ef4-12183a699485",
   "metadata": {},
   "outputs": [
    {
     "data": {
      "text/plain": [
       "[2, 3, 4, 5, 6, 7, 8, 9]"
      ]
     },
     "execution_count": 14,
     "metadata": {},
     "output_type": "execute_result"
    }
   ],
   "source": [
    "list(range(2,10))"
   ]
  },
  {
   "cell_type": "code",
   "execution_count": 18,
   "id": "16f77cff-d43f-4e72-8c6c-7b9eb932c273",
   "metadata": {},
   "outputs": [
    {
     "name": "stdout",
     "output_type": "stream",
     "text": [
      "*\n",
      "**\n",
      "***\n",
      "****\n",
      "*****\n"
     ]
    }
   ],
   "source": [
    "i = 1\n",
    "\n",
    "for i in range(i,6):\n",
    "    print(i*\"*\")\n",
    "    i = i +1"
   ]
  },
  {
   "cell_type": "code",
   "execution_count": 24,
   "id": "53d475d5-b7ad-4bb5-b5e7-03b3ad2b81ac",
   "metadata": {},
   "outputs": [
    {
     "name": "stdout",
     "output_type": "stream",
     "text": [
      "*\n",
      "**\n",
      "***\n",
      "****\n"
     ]
    }
   ],
   "source": [
    "def right_angle_triangle(n):\n",
    "    for i in range(1,n+1):\n",
    "        print(i * \"*\")\n",
    "        i=i+1\n",
    "right_angle_triangle(4)"
   ]
  },
  {
   "cell_type": "code",
   "execution_count": 26,
   "id": "b3e541ea-1567-4fb6-9381-7a96dc231e31",
   "metadata": {},
   "outputs": [
    {
     "name": "stdout",
     "output_type": "stream",
     "text": [
      "*\n",
      "**\n",
      "***\n",
      "****\n",
      "*****\n",
      "******\n",
      "*******\n",
      "********\n",
      "*********\n",
      "**********\n"
     ]
    }
   ],
   "source": [
    "def right_angle_triangle(n):\n",
    "    for i in range(1,n+1):\n",
    "        print(i * \"*\")\n",
    "\n",
    "right_angle_triangle(10)"
   ]
  },
  {
   "cell_type": "code",
   "execution_count": 29,
   "id": "6bbeb18c-99f5-4e13-af2b-7bc6d21e72f7",
   "metadata": {},
   "outputs": [
    {
     "name": "stdout",
     "output_type": "stream",
     "text": [
      "*\n",
      "**\n",
      "***\n",
      "****\n"
     ]
    }
   ],
   "source": [
    "n = 4 \n",
    "i = 1\n",
    "\n",
    "while i<=n :\n",
    "    print(i*\"*\")\n",
    "    i=i+1"
   ]
  },
  {
   "cell_type": "code",
   "execution_count": 31,
   "id": "2cdcee23-5b8c-46aa-bda2-3f4379692fb7",
   "metadata": {},
   "outputs": [
    {
     "name": "stdout",
     "output_type": "stream",
     "text": [
      "*\n",
      "**\n",
      "***\n",
      "****\n",
      "*****\n",
      "******\n",
      "*******\n",
      "********\n",
      "*********\n"
     ]
    }
   ],
   "source": [
    "def right_angle_triangle(n):\n",
    "    i = 1\n",
    "    while i<=n:\n",
    "        print(i * \"*\")\n",
    "        i = i+1\n",
    "right_angle_triangle(9)"
   ]
  },
  {
   "cell_type": "code",
   "execution_count": 32,
   "id": "def04bbc-f279-497c-a141-c9db35b45783",
   "metadata": {},
   "outputs": [
    {
     "name": "stdout",
     "output_type": "stream",
     "text": [
      "#\n",
      "##\n",
      "###\n",
      "####\n",
      "#####\n",
      "######\n",
      "#######\n",
      "########\n",
      "#########\n",
      "##########\n"
     ]
    }
   ],
   "source": [
    "n = 10\n",
    "i = 1 \n",
    "\n",
    "while i <= n:\n",
    "    print(i * \"#\")\n",
    "    i+=1"
   ]
  },
  {
   "cell_type": "code",
   "execution_count": 40,
   "id": "4171eae6-6f0f-4eff-982e-dcb3923a5dad",
   "metadata": {},
   "outputs": [
    {
     "name": "stdout",
     "output_type": "stream",
     "text": [
      " *********\n",
      "  ********\n",
      "   *******\n",
      "    ******\n",
      "     *****\n",
      "      ****\n",
      "       ***\n",
      "        **\n",
      "         *\n",
      "          \n"
     ]
    }
   ],
   "source": [
    "n = 10\n",
    "i = 1 \n",
    "\n",
    "while i <= n:\n",
    "    l = \" \" * (i)\n",
    "    k = \"*\" *(n-i)\n",
    "    print(l+k)\n",
    "    i+=1"
   ]
  },
  {
   "cell_type": "code",
   "execution_count": 41,
   "id": "4de88cc1-daf6-4fe6-8394-c98180c90f80",
   "metadata": {},
   "outputs": [
    {
     "name": "stdout",
     "output_type": "stream",
     "text": [
      "         *\n",
      "        **\n",
      "       ***\n",
      "      ****\n",
      "     *****\n",
      "    ******\n",
      "   *******\n",
      "  ********\n",
      " *********\n",
      "**********\n"
     ]
    }
   ],
   "source": [
    "n = 10\n",
    "i = 1 \n",
    "\n",
    "while i <= n:\n",
    "    l = \" \" * (n-i)\n",
    "    k = \"*\" *(i)\n",
    "    print(l+k)\n",
    "    i+=1"
   ]
  },
  {
   "cell_type": "code",
   "execution_count": 42,
   "id": "296d5ba7-a0d8-4a10-94ee-6eb049335e8b",
   "metadata": {},
   "outputs": [
    {
     "name": "stdout",
     "output_type": "stream",
     "text": [
      "         *#\n",
      "        **##\n",
      "       ***###\n",
      "      ****####\n",
      "     *****#####\n",
      "    ******######\n",
      "   *******#######\n",
      "  ********########\n",
      " *********#########\n",
      "**********##########\n"
     ]
    }
   ],
   "source": [
    "n = 10\n",
    "i = 1 \n",
    "\n",
    "while i <= n:\n",
    "    l = \" \" * (n-i)\n",
    "    k = \"*\" *(i)\n",
    "    j = \"#\" *(i)\n",
    "    print(l+k+j)\n",
    "    i+=1"
   ]
  },
  {
   "cell_type": "code",
   "execution_count": 47,
   "id": "c9962d26-575b-46ca-a8b7-caaa1ac0ed51",
   "metadata": {},
   "outputs": [
    {
     "name": "stdout",
     "output_type": "stream",
     "text": [
      "\n",
      "*\n",
      "**\n",
      "***\n",
      "****\n",
      "*****\n",
      "******\n",
      "*******\n",
      "********\n",
      "*********\n"
     ]
    }
   ],
   "source": [
    "\n",
    "for i in range (0,10):\n",
    "    print(i * \"*\")"
   ]
  },
  {
   "cell_type": "code",
   "execution_count": 48,
   "id": "ac2f1c95-e207-4b6f-b1e7-fd39b0b536c0",
   "metadata": {},
   "outputs": [
    {
     "name": "stdout",
     "output_type": "stream",
     "text": [
      "\n",
      "*\n",
      "**\n",
      "***\n",
      "****\n",
      "*****\n",
      "******\n",
      "*******\n",
      "********\n",
      "*********\n"
     ]
    }
   ],
   "source": [
    "\n",
    "for i in range (0,10):\n",
    "    print(i * \"*\")"
   ]
  },
  {
   "cell_type": "code",
   "execution_count": 52,
   "id": "0b26b6df-f765-420d-8c4a-3ca0906ba45f",
   "metadata": {},
   "outputs": [
    {
     "name": "stdout",
     "output_type": "stream",
     "text": [
      "          **********\n",
      "          *********\n",
      "          ********\n",
      "          *******\n",
      "          ******\n",
      "          *****\n",
      "          ****\n",
      "          ***\n",
      "          **\n",
      "          *\n"
     ]
    }
   ],
   "source": [
    "def angle(n):\n",
    "    \n",
    "    for i in range (0,n):\n",
    "        j = \" \" * n\n",
    "        k = \"*\" * (n-i)\n",
    "        print(j+k)\n",
    "        \n",
    "angle(10)"
   ]
  },
  {
   "cell_type": "code",
   "execution_count": 54,
   "id": "071b2844-61d1-4c49-8a98-6f0c98ce7e13",
   "metadata": {},
   "outputs": [
    {
     "name": "stdout",
     "output_type": "stream",
     "text": [
      "         *\n",
      "        **\n",
      "       ***\n",
      "      ****\n",
      "     *****\n",
      "    ******\n",
      "   *******\n",
      "  ********\n",
      " *********\n"
     ]
    }
   ],
   "source": [
    "def angle(n):\n",
    "    \n",
    "    for i in range (1,n):\n",
    "        j = \" \" * (n-i)\n",
    "        k = \"*\" * (i)\n",
    "        print(j+k)\n",
    "        \n",
    "angle(10)"
   ]
  },
  {
   "cell_type": "code",
   "execution_count": 55,
   "id": "786ee241-3a2b-484b-a4c9-2d539924a106",
   "metadata": {},
   "outputs": [
    {
     "name": "stdout",
     "output_type": "stream",
     "text": [
      "         *#\n",
      "        **##\n",
      "       ***###\n",
      "      ****####\n",
      "     *****#####\n",
      "    ******######\n",
      "   *******#######\n",
      "  ********########\n",
      " *********#########\n"
     ]
    }
   ],
   "source": [
    "def angle(n):\n",
    "    for i in range (1,n):\n",
    "        j = \" \" * (n-i)\n",
    "        k = \"*\" * (i)\n",
    "        l = \"#\" * (i)\n",
    "        print(j+k+l)\n",
    "        \n",
    "angle(10)"
   ]
  },
  {
   "cell_type": "code",
   "execution_count": 58,
   "id": "b5c00a32-7c2f-4ce9-9f6c-6b7ee69a9778",
   "metadata": {},
   "outputs": [
    {
     "name": "stdout",
     "output_type": "stream",
     "text": [
      "$$$$$$$$$*#$$$$$$$$$\n",
      "$$$$$$$$**##$$$$$$$$\n",
      "$$$$$$$***###$$$$$$$\n",
      "$$$$$$****####$$$$$$\n",
      "$$$$$*****#####$$$$$\n",
      "$$$$******######$$$$\n",
      "$$$*******#######$$$\n",
      "$$********########$$\n",
      "$*********#########$\n"
     ]
    }
   ],
   "source": [
    "def angle(n):\n",
    "    for i in range (1,n):\n",
    "        j = \"$\" * (n-i)\n",
    "        k = \"*\" * (i)\n",
    "        l = \"#\" * (i)\n",
    "        m = \"$\" * (n-i)\n",
    "        print(j+k+l+m)\n",
    "        \n",
    "angle(10)"
   ]
  },
  {
   "cell_type": "code",
   "execution_count": 64,
   "id": "c52b6b6c-403b-4b54-b57b-94932622304d",
   "metadata": {},
   "outputs": [
    {
     "name": "stdout",
     "output_type": "stream",
     "text": [
      " *********#########\n",
      "  ********########\n",
      "   *******#######\n",
      "    ******######\n",
      "     *****#####\n",
      "      ****####\n",
      "       ***###\n",
      "        **##\n",
      "         *#\n",
      "         *#\n",
      "        **##\n",
      "       ***###\n",
      "      ****####\n",
      "     *****#####\n",
      "    ******######\n",
      "   *******#######\n",
      "  ********########\n",
      " *********#########\n"
     ]
    }
   ],
   "source": [
    "def angle(n):\n",
    "    for i in range (1,n):\n",
    "        j = \" \" * (i)\n",
    "        k = \"*\" * (n-i)\n",
    "        l = \"#\" * (n-i)\n",
    "        print(j+k+l)\n",
    "        \n",
    "    for i in range (1,n):\n",
    "        j = \" \" * (n-i)\n",
    "        k = \"*\" * (i)\n",
    "        l = \"#\" * (i)\n",
    "        print(j+k+l)\n",
    "        \n",
    "angle(10)"
   ]
  },
  {
   "cell_type": "code",
   "execution_count": 66,
   "id": "02f4f6f6-1f28-487d-b0fc-2f88b2fb2fbe",
   "metadata": {},
   "outputs": [
    {
     "name": "stdout",
     "output_type": "stream",
     "text": [
      "         *#\n",
      "        **##\n",
      "       ***###\n",
      "      ****####\n",
      "     *****#####\n",
      "    ******######\n",
      "   *******#######\n",
      "  ********########\n",
      " *********#########\n",
      " *********#########\n",
      "  ********########\n",
      "   *******#######\n",
      "    ******######\n",
      "     *****#####\n",
      "      ****####\n",
      "       ***###\n",
      "        **##\n",
      "         *#\n"
     ]
    }
   ],
   "source": [
    "def angle(n):\n",
    "    for i in range (1,n):\n",
    "        j = \" \" * (n-i)\n",
    "        k = \"*\" * (i)\n",
    "        l = \"#\" * (i)\n",
    "        print(j+k+l)\n",
    "        \n",
    "    for i in range (1,n):\n",
    "        j = \" \" * (i)\n",
    "        k = \"*\" * (n-i)\n",
    "        l = \"#\" * (n-i)\n",
    "        print(j+k+l)\n",
    "        \n",
    "angle(10)"
   ]
  },
  {
   "cell_type": "code",
   "execution_count": 86,
   "id": "a40ec6f7-084f-49d5-88c2-c052de8fdcb0",
   "metadata": {},
   "outputs": [
    {
     "name": "stdout",
     "output_type": "stream",
     "text": [
      "---------*#------------------*#\n",
      "--------**##----------------**##\n",
      "-------***###--------------***###\n",
      "------****####------------****####\n",
      "-----*****#####----------*****#####\n",
      "----******######--------******######\n",
      "---*******#######------*******#######\n",
      "--********########----********########\n",
      "-*********#########--*********#########\n"
     ]
    }
   ],
   "source": [
    "def angle(n):\n",
    "    \n",
    "    for i in range (1,n):\n",
    "        j = \"-\" * (n-i)\n",
    "        k = \"*\" * (i)\n",
    "        l = \"#\" * (i)\n",
    "        m = \"-\" * (n-i)\n",
    "        o = \"-\" * (n-i)\n",
    "        p = \"*\" * i\n",
    "        q = \"#\" * i\n",
    "        print(j+k+l+m+o+p+q)\n",
    "        \n",
    "angle(10)"
   ]
  },
  {
   "cell_type": "code",
   "execution_count": 117,
   "id": "b14ef133-16f2-4658-a7a2-dfcfe74f9443",
   "metadata": {},
   "outputs": [
    {
     "name": "stdout",
     "output_type": "stream",
     "text": [
      "---------*#------------------*#---------\n",
      "--------**##----------------**##--------\n",
      "-------***###--------------***###-------\n",
      "------****####------------****####------\n",
      "-----*****#####----------*****#####-----\n",
      "----******######--------******######----\n",
      "---*******#######------*******#######---\n",
      "--********########----********########--\n",
      "-*********#########--*********#########-\n",
      "-*********#########--*********#########-\n",
      "--********########----********########--\n",
      "---*******#######------*******#######---\n",
      "----******######--------******######----\n",
      "-----*****#####----------*****#####-----\n",
      "------****####------------****####------\n",
      "-------***###--------------***###-------\n",
      "--------**##----------------**##--------\n",
      "---------*#------------------*#---------\n"
     ]
    }
   ],
   "source": [
    "def angle(n):\n",
    "    \n",
    "    for i in range (1,n):\n",
    "        j = \"-\" * (n-i)\n",
    "        k = \"*\" * (i)\n",
    "        l = \"#\" * (i)\n",
    "        m = \"-\" * (n-i)\n",
    "        o = \"-\" * (n-i)\n",
    "        p = \"*\" * i\n",
    "        q = \"#\" * i\n",
    "        r = (\"-\" * (n-i) )\n",
    "        print(j+k+l+m+o+p+q+r)\n",
    "        \n",
    "    for i in range (1,n):\n",
    "        j = \"-\" * (i)\n",
    "        k = \"*\" * (n-i)\n",
    "        l = \"#\" * (n-i)\n",
    "        m = \"-\" * (i)\n",
    "        o = \"-\" * (i)\n",
    "        p = \"*\" * (n-i)\n",
    "        q = \"#\" * (n-i)\n",
    "        r = (\"-\" * (i) )\n",
    "        print(j+k+l+m+o+p+q+r)\n",
    "        \n",
    "angle(10)"
   ]
  },
  {
   "cell_type": "code",
   "execution_count": 116,
   "id": "0c0369ca-19cd-4681-b7d7-3e9f60ddaac0",
   "metadata": {},
   "outputs": [
    {
     "name": "stdout",
     "output_type": "stream",
     "text": [
      "---------*#------------------*#------------------*#---------\n",
      "--------**##----------------**##----------------**##--------\n",
      "-------***###--------------***###--------------***###-------\n",
      "------****####------------****####------------****####------\n",
      "-----*****#####----------*****#####----------*****#####-----\n",
      "----******######--------******######--------******######----\n",
      "---*******#######------*******#######------*******#######---\n",
      "--********########----********########----********########--\n",
      "-*********#########--*********#########--*********#########-\n",
      "-*********#########--*********#########--*********#########-\n",
      "--********########----********########----********########--\n",
      "---*******#######------*******#######------*******#######---\n",
      "----******######--------******######--------******######----\n",
      "-----*****#####----------*****#####----------*****#####-----\n",
      "------****####------------****####------------****####------\n",
      "-------***###--------------***###--------------***###-------\n",
      "--------**##----------------**##----------------**##--------\n",
      "---------*#------------------*#------------------*#---------\n"
     ]
    }
   ],
   "source": [
    "def angle(n):\n",
    "    \n",
    "    for i in range (1,n):\n",
    "        j = \"-\" * (n-i)\n",
    "        k = \"*\" * (i)\n",
    "        l = \"#\" * (i)\n",
    "        m = \"-\" * (n-i)\n",
    "        o = \"-\" * (n-i)\n",
    "        p = \"*\" * i\n",
    "        q = \"#\" * i\n",
    "        r = (\"-\" * (n-i) )+ (\"-\" *(n-i))+ \"*\"*i + \"#\"*i +\"-\"*(n-i)\n",
    "        print(j+k+l+m+o+p+q+r)\n",
    "        \n",
    "    for i in range (1,n):\n",
    "        j = \"-\" * (i)\n",
    "        k = \"*\" * (n-i)\n",
    "        l = \"#\" * (n-i)\n",
    "        m = \"-\" * (i)\n",
    "        o = \"-\" * (i)\n",
    "        p = \"*\" * (n-i)\n",
    "        q = \"#\" * (n-i)\n",
    "        r = (\"-\" * (i) )+ (\"-\" *(i))+ \"*\"*(n-i)+\"#\"*(n-i) + \"-\"*i\n",
    "        print(j+k+l+m+o+p+q+r)\n",
    "        \n",
    "angle(10)"
   ]
  },
  {
   "cell_type": "code",
   "execution_count": 126,
   "id": "325e450c-4bfe-4ace-8a59-66d2d27f4f3e",
   "metadata": {},
   "outputs": [
    {
     "name": "stdout",
     "output_type": "stream",
     "text": [
      " *********#########  *********#########  *********#########\n",
      "  ********########    ********########    ********########\n",
      "   *******#######      *******#######      *******#######\n",
      "    ******######        ******######        ******######\n",
      "     *****#####          *****#####          *****#####\n",
      "      ****####            ****####            ****####\n",
      "       ***###              ***###              ***###\n",
      "        **##                **##                **##\n",
      "         *#                  *#                  *#\n",
      "         *#                  *#                  *#\n",
      "        **##                **##                **##\n",
      "       ***###              ***###              ***###\n",
      "      ****####            ****####            ****####\n",
      "     *****#####          *****#####          *****#####\n",
      "    ******######        ******######        ******######\n",
      "   *******#######      *******#######      *******#######\n",
      "  ********########    ********########    ********########\n",
      " *********#########  *********#########  *********#########\n"
     ]
    }
   ],
   "source": [
    "def angle(n):\n",
    "    for i in range (1,n):\n",
    "        j = \" \" * (i)\n",
    "        k = \"*\" * (n-i)\n",
    "        l = \"#\" * (n-i) +\" \"*i +\" \"*i +\"*\" * (n-i) +\"#\" * (n-i)\n",
    "        m = \" \"*i +\" \"*i +\"*\" * (n-i) +\"#\" * (n-i)\n",
    "        print(j+k+l+m)\n",
    "        \n",
    "    for i in range (1,n):\n",
    "        j = \" \" * (n-i)\n",
    "        k = \"*\" * (i)\n",
    "        l = \"#\" * (i) + \" \"*(n-i) + \" \"*(n-i)+\"*\" * (i) +\"#\" * (i)\n",
    "        m = \" \"*(n-i) + \" \"*(n-i)+\"*\" * (i) +\"#\" * (i)\n",
    "        print(j+k+l+m)\n",
    "        \n",
    "angle(10)"
   ]
  },
  {
   "cell_type": "code",
   "execution_count": 130,
   "id": "385dbf22-bcee-4471-97ab-92278d32ca1d",
   "metadata": {},
   "outputs": [
    {
     "name": "stdout",
     "output_type": "stream",
     "text": [
      "-*********#########--*********#########--*********#########-\n",
      "--********########----********########----********########--\n",
      "---*******#######------*******#######------*******#######---\n",
      "----******######--------******######--------******######----\n",
      "-----*****#####----------*****#####----------*****#####-----\n",
      "------****####------------****####------------****####------\n",
      "-------***###--------------***###--------------***###-------\n",
      "--------**##----------------**##----------------**##--------\n",
      "---------*#------------------*#------------------*#---------\n",
      "---------*#------------------*#------------------*#---------\n",
      "--------**##----------------**##----------------**##--------\n",
      "-------***###--------------***###--------------***###-------\n",
      "------****####------------****####------------****####------\n",
      "-----*****#####----------*****#####----------*****#####-----\n",
      "----******######--------******######--------******######----\n",
      "---*******#######------*******#######------*******#######---\n",
      "--********########----********########----********########--\n",
      "-*********#########--*********#########--*********#########-\n"
     ]
    }
   ],
   "source": [
    "def angle(n):\n",
    "    for i in range (1,n):\n",
    "        j = \"-\"*i + \"*\" *(n-i) + \"#\" * (n-i)\n",
    "        k = \"-\"*i + \"-\" *i     + \"*\" * (n-i) + \"#\" * (n-i)\n",
    "        l = \"-\"*i + \"-\" *i     + \"*\" * (n-i) + \"#\" * (n-i) + \"-\"*i\n",
    "        print(j+k+l)\n",
    "        \n",
    "    for i in range (1,n):\n",
    "        j = \"-\"*(n-i) + \"*\"*i     + \"#\" *i\n",
    "        k = \"-\"*(n-i) + \"-\"*(n-i) + \"*\" *i + \"#\" *i\n",
    "        l = \"-\"*(n-i) + \"-\"*(n-i) + \"*\" *i + \"#\" *i +\"-\"*(n-i)\n",
    "        print(j+k+l)\n",
    "        \n",
    "angle(10)"
   ]
  },
  {
   "cell_type": "code",
   "execution_count": 131,
   "id": "d5b2361f-1a8b-4ecc-b462-677eb0499e77",
   "metadata": {},
   "outputs": [
    {
     "ename": "SyntaxError",
     "evalue": "invalid syntax (2830201818.py, line 1)",
     "output_type": "error",
     "traceback": [
      "\u001b[0;36m  File \u001b[0;32m\"/var/folders/dd/s1dxkjxj4txghztj47169hn80000gn/T/ipykernel_10912/2830201818.py\"\u001b[0;36m, line \u001b[0;32m1\u001b[0m\n\u001b[0;31m    git init\u001b[0m\n\u001b[0m        ^\u001b[0m\n\u001b[0;31mSyntaxError\u001b[0m\u001b[0;31m:\u001b[0m invalid syntax\n"
     ]
    }
   ],
   "source": [
    "git init"
   ]
  },
  {
   "cell_type": "code",
   "execution_count": null,
   "id": "0fcb2130-e2d5-4233-b8cd-071199e88f18",
   "metadata": {},
   "outputs": [],
   "source": []
  }
 ],
 "metadata": {
  "kernelspec": {
   "display_name": "Python 3 (ipykernel)",
   "language": "python",
   "name": "python3"
  },
  "language_info": {
   "codemirror_mode": {
    "name": "ipython",
    "version": 3
   },
   "file_extension": ".py",
   "mimetype": "text/x-python",
   "name": "python",
   "nbconvert_exporter": "python",
   "pygments_lexer": "ipython3",
   "version": "3.9.7"
  }
 },
 "nbformat": 4,
 "nbformat_minor": 5
}
