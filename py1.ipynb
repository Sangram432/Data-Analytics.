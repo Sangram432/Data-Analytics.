{
 "cells": [
  {
   "cell_type": "code",
   "execution_count": 1,
   "id": "bd6f1390-4c37-4337-9d44-0c5b7711e4b9",
   "metadata": {},
   "outputs": [],
   "source": [
    "a =2"
   ]
  },
  {
   "cell_type": "code",
   "execution_count": 2,
   "id": "3503b8e5-fcf0-4cff-a228-fd7942a62001",
   "metadata": {},
   "outputs": [
    {
     "data": {
      "text/plain": [
       "2"
      ]
     },
     "execution_count": 2,
     "metadata": {},
     "output_type": "execute_result"
    }
   ],
   "source": [
    "a"
   ]
  },
  {
   "cell_type": "code",
   "execution_count": 3,
   "id": "d3710c7b-298d-4991-b4d9-a20eea6c55cc",
   "metadata": {},
   "outputs": [
    {
     "name": "stdout",
     "output_type": "stream",
     "text": [
      "Hello World\n"
     ]
    }
   ],
   "source": [
    "print(\"Hello World\")"
   ]
  },
  {
   "cell_type": "code",
   "execution_count": 4,
   "id": "ea0d3bde-8e4b-43f7-89f7-9f2d34097da1",
   "metadata": {},
   "outputs": [
    {
     "data": {
      "text/plain": [
       "int"
      ]
     },
     "execution_count": 4,
     "metadata": {},
     "output_type": "execute_result"
    }
   ],
   "source": [
    "type(a)"
   ]
  },
  {
   "cell_type": "code",
   "execution_count": 5,
   "id": "62b68165-4212-4465-93ec-b949951705cd",
   "metadata": {},
   "outputs": [],
   "source": [
    "b=4.2"
   ]
  },
  {
   "cell_type": "code",
   "execution_count": 6,
   "id": "3763c846-8d54-4e78-83a2-31245216afb1",
   "metadata": {},
   "outputs": [
    {
     "data": {
      "text/plain": [
       "4.2"
      ]
     },
     "execution_count": 6,
     "metadata": {},
     "output_type": "execute_result"
    }
   ],
   "source": [
    "b"
   ]
  },
  {
   "cell_type": "code",
   "execution_count": 7,
   "id": "419d1a4f-9093-4830-ac11-f8d8cd7b04aa",
   "metadata": {},
   "outputs": [
    {
     "data": {
      "text/plain": [
       "float"
      ]
     },
     "execution_count": 7,
     "metadata": {},
     "output_type": "execute_result"
    }
   ],
   "source": [
    "type(b)"
   ]
  },
  {
   "cell_type": "code",
   "execution_count": 8,
   "id": "e9fb176c-92ee-4cac-9b90-529682120f54",
   "metadata": {},
   "outputs": [],
   "source": [
    "ajay =4 "
   ]
  },
  {
   "cell_type": "code",
   "execution_count": 9,
   "id": "0b46286d-4e8f-4211-a84b-ae18e87025c2",
   "metadata": {},
   "outputs": [
    {
     "data": {
      "text/plain": [
       "int"
      ]
     },
     "execution_count": 9,
     "metadata": {},
     "output_type": "execute_result"
    }
   ],
   "source": [
    "type(4)"
   ]
  },
  {
   "cell_type": "code",
   "execution_count": 10,
   "id": "0d3021c2-f09b-4f47-b1f2-fc5630cd8b06",
   "metadata": {},
   "outputs": [
    {
     "data": {
      "text/plain": [
       "int"
      ]
     },
     "execution_count": 10,
     "metadata": {},
     "output_type": "execute_result"
    }
   ],
   "source": [
    "type(ajay)"
   ]
  },
  {
   "cell_type": "code",
   "execution_count": 11,
   "id": "0ba7761e-b6a0-41a7-8884-d4b19c41f3f8",
   "metadata": {},
   "outputs": [],
   "source": [
    "c = ajay "
   ]
  },
  {
   "cell_type": "code",
   "execution_count": 12,
   "id": "a348fd7b-896e-408b-b68f-c99b96a24e39",
   "metadata": {},
   "outputs": [
    {
     "data": {
      "text/plain": [
       "int"
      ]
     },
     "execution_count": 12,
     "metadata": {},
     "output_type": "execute_result"
    }
   ],
   "source": [
    "type(c)"
   ]
  },
  {
   "cell_type": "code",
   "execution_count": 13,
   "id": "92f926f6-3404-49aa-bcf4-1a1953c4dc5a",
   "metadata": {},
   "outputs": [],
   "source": [
    "C = \"Ajay\""
   ]
  },
  {
   "cell_type": "code",
   "execution_count": 14,
   "id": "d8126107-ae59-4b7c-bb70-8d0e113a0d6d",
   "metadata": {},
   "outputs": [
    {
     "data": {
      "text/plain": [
       "str"
      ]
     },
     "execution_count": 14,
     "metadata": {},
     "output_type": "execute_result"
    }
   ],
   "source": [
    "type(C)"
   ]
  },
  {
   "cell_type": "code",
   "execution_count": 15,
   "id": "0de02d27-e39c-4d39-a94e-5cffd5ddba7a",
   "metadata": {},
   "outputs": [],
   "source": [
    "d = True"
   ]
  },
  {
   "cell_type": "code",
   "execution_count": 16,
   "id": "45a55b79-39f6-4ba6-bcbb-5e5066d5feb3",
   "metadata": {},
   "outputs": [
    {
     "data": {
      "text/plain": [
       "bool"
      ]
     },
     "execution_count": 16,
     "metadata": {},
     "output_type": "execute_result"
    }
   ],
   "source": [
    "type(d)"
   ]
  },
  {
   "cell_type": "code",
   "execution_count": 17,
   "id": "736cd7bf-8db0-4711-9cb4-9069d51caad1",
   "metadata": {},
   "outputs": [],
   "source": [
    "e = 2+6j"
   ]
  },
  {
   "cell_type": "code",
   "execution_count": 18,
   "id": "c2394179-8d36-433a-9f40-46ac766924c6",
   "metadata": {},
   "outputs": [
    {
     "data": {
      "text/plain": [
       "complex"
      ]
     },
     "execution_count": 18,
     "metadata": {},
     "output_type": "execute_result"
    }
   ],
   "source": [
    "type(e)"
   ]
  },
  {
   "cell_type": "code",
   "execution_count": 19,
   "id": "5f88b63b-509b-46f4-adcd-192626528bc9",
   "metadata": {},
   "outputs": [
    {
     "data": {
      "text/plain": [
       "4.2"
      ]
     },
     "execution_count": 19,
     "metadata": {},
     "output_type": "execute_result"
    }
   ],
   "source": [
    "b"
   ]
  },
  {
   "cell_type": "code",
   "execution_count": 20,
   "id": "a7559ef8-6fae-411f-a8f6-b63d6816ddc7",
   "metadata": {},
   "outputs": [
    {
     "data": {
      "text/plain": [
       "4.2"
      ]
     },
     "execution_count": 20,
     "metadata": {},
     "output_type": "execute_result"
    }
   ],
   "source": [
    "b.real"
   ]
  },
  {
   "cell_type": "code",
   "execution_count": 21,
   "id": "33d8b069-0f14-416a-9cc7-a21f908cde57",
   "metadata": {},
   "outputs": [
    {
     "data": {
      "text/plain": [
       "4"
      ]
     },
     "execution_count": 21,
     "metadata": {},
     "output_type": "execute_result"
    }
   ],
   "source": [
    "c.real"
   ]
  },
  {
   "cell_type": "code",
   "execution_count": 22,
   "id": "94771c3d-45a7-43b3-9339-984323d89dd8",
   "metadata": {},
   "outputs": [
    {
     "data": {
      "text/plain": [
       "0.0"
      ]
     },
     "execution_count": 22,
     "metadata": {},
     "output_type": "execute_result"
    }
   ],
   "source": [
    "b.imag"
   ]
  },
  {
   "cell_type": "code",
   "execution_count": 23,
   "id": "13d50a7a-05c2-45d2-b999-eb7310f9d582",
   "metadata": {},
   "outputs": [
    {
     "name": "stdout",
     "output_type": "stream",
     "text": [
      "\n",
      "Here is a list of the Python keywords.  Enter any keyword to get more help.\n",
      "\n",
      "False               break               for                 not\n",
      "None                class               from                or\n",
      "True                continue            global              pass\n",
      "__peg_parser__      def                 if                  raise\n",
      "and                 del                 import              return\n",
      "as                  elif                in                  try\n",
      "assert              else                is                  while\n",
      "async               except              lambda              with\n",
      "await               finally             nonlocal            yield\n",
      "\n"
     ]
    }
   ],
   "source": [
    "help(\"keywords\")"
   ]
  },
  {
   "cell_type": "code",
   "execution_count": 24,
   "id": "0eb0215f-86a4-493d-9c3d-8ff63f767368",
   "metadata": {},
   "outputs": [
    {
     "name": "stdout",
     "output_type": "stream",
     "text": [
      "Greater\n"
     ]
    }
   ],
   "source": [
    "if 3 > 2:\n",
    "    print(\"Greater\")\n",
    "else:\n",
    "    print(\"smaller\")"
   ]
  },
  {
   "cell_type": "code",
   "execution_count": 25,
   "id": "a326ed9f-9549-4b36-9564-939b8f63bd0b",
   "metadata": {},
   "outputs": [
    {
     "name": "stdout",
     "output_type": "stream",
     "text": [
      "smaller\n"
     ]
    }
   ],
   "source": [
    "if 3 < 2:\n",
    "    print(\"Greater\")\n",
    "else:\n",
    "    print(\"smaller\")"
   ]
  },
  {
   "cell_type": "code",
   "execution_count": 26,
   "id": "17f26581-5814-4bca-9b64-695cf684a25c",
   "metadata": {},
   "outputs": [
    {
     "name": "stdin",
     "output_type": "stream",
     "text": [
      "Enter any name  s\n"
     ]
    }
   ],
   "source": [
    "name = input (\"Enter any name \")"
   ]
  },
  {
   "cell_type": "code",
   "execution_count": 27,
   "id": "00dd2188-3b3f-400a-9778-28c60309a37d",
   "metadata": {},
   "outputs": [
    {
     "data": {
      "text/plain": [
       "'s'"
      ]
     },
     "execution_count": 27,
     "metadata": {},
     "output_type": "execute_result"
    }
   ],
   "source": [
    "name"
   ]
  },
  {
   "cell_type": "code",
   "execution_count": 28,
   "id": "b9c4d625-b0fa-4f3f-84c1-522aee0c6cf7",
   "metadata": {},
   "outputs": [
    {
     "name": "stdin",
     "output_type": "stream",
     "text": [
      "Enter any name  sng\n"
     ]
    }
   ],
   "source": [
    "name = input (\"Enter any name \")"
   ]
  },
  {
   "cell_type": "code",
   "execution_count": 29,
   "id": "005d3b42-af7d-438a-b79f-34a69c58634e",
   "metadata": {},
   "outputs": [
    {
     "data": {
      "text/plain": [
       "'sng'"
      ]
     },
     "execution_count": 29,
     "metadata": {},
     "output_type": "execute_result"
    }
   ],
   "source": [
    "name"
   ]
  },
  {
   "cell_type": "code",
   "execution_count": 30,
   "id": "489a6c13-b13a-4990-8ffe-54b672490a8e",
   "metadata": {},
   "outputs": [
    {
     "name": "stdin",
     "output_type": "stream",
     "text": [
      "Enter any name 4\n"
     ]
    }
   ],
   "source": [
    "num1 = int(input(\"Enter any name\"))"
   ]
  },
  {
   "cell_type": "code",
   "execution_count": 31,
   "id": "8f277361-5bc3-4eef-86cd-4df0a379debd",
   "metadata": {},
   "outputs": [
    {
     "data": {
      "text/plain": [
       "4"
      ]
     },
     "execution_count": 31,
     "metadata": {},
     "output_type": "execute_result"
    }
   ],
   "source": [
    "num1"
   ]
  },
  {
   "cell_type": "code",
   "execution_count": 32,
   "id": "186e308d-ba66-4e8d-ae30-34f1e49744f7",
   "metadata": {},
   "outputs": [
    {
     "data": {
      "text/plain": [
       "int"
      ]
     },
     "execution_count": 32,
     "metadata": {},
     "output_type": "execute_result"
    }
   ],
   "source": [
    "type(num1)"
   ]
  },
  {
   "cell_type": "code",
   "execution_count": 33,
   "id": "ca5a76e0-afab-46e5-8ea8-f7dbea139c38",
   "metadata": {},
   "outputs": [
    {
     "data": {
      "text/plain": [
       "str"
      ]
     },
     "execution_count": 33,
     "metadata": {},
     "output_type": "execute_result"
    }
   ],
   "source": [
    "type(name)"
   ]
  },
  {
   "cell_type": "code",
   "execution_count": 34,
   "id": "a94d198c-ae84-4dab-ab23-36d74df23f68",
   "metadata": {},
   "outputs": [],
   "source": [
    "a=5"
   ]
  },
  {
   "cell_type": "code",
   "execution_count": 35,
   "id": "20a11631-4a44-4e7b-95b6-542a305665ff",
   "metadata": {},
   "outputs": [],
   "source": [
    "b=3"
   ]
  },
  {
   "cell_type": "code",
   "execution_count": 36,
   "id": "76325d4d-a08b-409a-8688-a3f3ce7bbcfd",
   "metadata": {},
   "outputs": [
    {
     "data": {
      "text/plain": [
       "8"
      ]
     },
     "execution_count": 36,
     "metadata": {},
     "output_type": "execute_result"
    }
   ],
   "source": [
    "a+b"
   ]
  },
  {
   "cell_type": "code",
   "execution_count": 37,
   "id": "52b05b73-eb2a-46cd-b3b0-982d4b9bfed1",
   "metadata": {},
   "outputs": [
    {
     "name": "stdout",
     "output_type": "stream",
     "text": [
      "7\n"
     ]
    }
   ],
   "source": [
    "add = 5+2\n",
    "print(add)"
   ]
  },
  {
   "cell_type": "code",
   "execution_count": 38,
   "id": "bcc7b9e1-4218-4ebf-9b93-23f032390e86",
   "metadata": {},
   "outputs": [
    {
     "data": {
      "text/plain": [
       "22"
      ]
     },
     "execution_count": 38,
     "metadata": {},
     "output_type": "execute_result"
    }
   ],
   "source": [
    "20+2"
   ]
  },
  {
   "cell_type": "code",
   "execution_count": 39,
   "id": "6f55db8e-dde6-4d35-9f3b-220701f4b2da",
   "metadata": {},
   "outputs": [
    {
     "data": {
      "text/plain": [
       "18"
      ]
     },
     "execution_count": 39,
     "metadata": {},
     "output_type": "execute_result"
    }
   ],
   "source": [
    "20-2"
   ]
  },
  {
   "cell_type": "code",
   "execution_count": 40,
   "id": "f8475acc-14df-4b19-8139-912c2468f9dc",
   "metadata": {},
   "outputs": [
    {
     "data": {
      "text/plain": [
       "40"
      ]
     },
     "execution_count": 40,
     "metadata": {},
     "output_type": "execute_result"
    }
   ],
   "source": [
    "20*2"
   ]
  },
  {
   "cell_type": "code",
   "execution_count": 41,
   "id": "c835bb42-b2fd-4ddb-975f-521f42a731f4",
   "metadata": {},
   "outputs": [
    {
     "data": {
      "text/plain": [
       "10.0"
      ]
     },
     "execution_count": 41,
     "metadata": {},
     "output_type": "execute_result"
    }
   ],
   "source": [
    "20/2"
   ]
  },
  {
   "cell_type": "code",
   "execution_count": 42,
   "id": "2476ca83-f556-4c2c-be77-9a0b16d464e6",
   "metadata": {},
   "outputs": [
    {
     "data": {
      "text/plain": [
       "0"
      ]
     },
     "execution_count": 42,
     "metadata": {},
     "output_type": "execute_result"
    }
   ],
   "source": [
    "20%2"
   ]
  },
  {
   "cell_type": "code",
   "execution_count": 43,
   "id": "e0bc6ef3-b71f-48c0-bcca-2409c842780b",
   "metadata": {},
   "outputs": [
    {
     "data": {
      "text/plain": [
       "4.25"
      ]
     },
     "execution_count": 43,
     "metadata": {},
     "output_type": "execute_result"
    }
   ],
   "source": [
    "17/4"
   ]
  },
  {
   "cell_type": "code",
   "execution_count": 44,
   "id": "c7d6f8bb-0a16-4bb3-bd02-798cf1dda33f",
   "metadata": {},
   "outputs": [
    {
     "data": {
      "text/plain": [
       "1"
      ]
     },
     "execution_count": 44,
     "metadata": {},
     "output_type": "execute_result"
    }
   ],
   "source": [
    "17%4"
   ]
  },
  {
   "cell_type": "code",
   "execution_count": 45,
   "id": "f8e6ac11-42f8-4abf-87c0-32f399d42670",
   "metadata": {},
   "outputs": [
    {
     "data": {
      "text/plain": [
       "8"
      ]
     },
     "execution_count": 45,
     "metadata": {},
     "output_type": "execute_result"
    }
   ],
   "source": [
    "2**3"
   ]
  },
  {
   "cell_type": "code",
   "execution_count": 46,
   "id": "d1c198f1-5b45-496d-b585-e46a9bad0225",
   "metadata": {},
   "outputs": [
    {
     "data": {
      "text/plain": [
       "27"
      ]
     },
     "execution_count": 46,
     "metadata": {},
     "output_type": "execute_result"
    }
   ],
   "source": [
    "3**3"
   ]
  },
  {
   "cell_type": "code",
   "execution_count": 47,
   "id": "62617367-dc02-4992-b049-4a271d67da6c",
   "metadata": {},
   "outputs": [
    {
     "data": {
      "text/plain": [
       "True"
      ]
     },
     "execution_count": 47,
     "metadata": {},
     "output_type": "execute_result"
    }
   ],
   "source": [
    "2 == 2"
   ]
  },
  {
   "cell_type": "code",
   "execution_count": 48,
   "id": "1413ef92-6d62-49bb-beae-0bcff3f96dcb",
   "metadata": {},
   "outputs": [
    {
     "data": {
      "text/plain": [
       "False"
      ]
     },
     "execution_count": 48,
     "metadata": {},
     "output_type": "execute_result"
    }
   ],
   "source": [
    "2!=2"
   ]
  },
  {
   "cell_type": "code",
   "execution_count": 49,
   "id": "b3da222b-10c1-4adc-9331-99a4415c588c",
   "metadata": {},
   "outputs": [
    {
     "data": {
      "text/plain": [
       "True"
      ]
     },
     "execution_count": 49,
     "metadata": {},
     "output_type": "execute_result"
    }
   ],
   "source": [
    "10>2"
   ]
  },
  {
   "cell_type": "code",
   "execution_count": 50,
   "id": "70499f49-1c16-4749-8c30-7592c88f66e0",
   "metadata": {},
   "outputs": [
    {
     "data": {
      "text/plain": [
       "True"
      ]
     },
     "execution_count": 50,
     "metadata": {},
     "output_type": "execute_result"
    }
   ],
   "source": [
    "10>=2"
   ]
  },
  {
   "cell_type": "code",
   "execution_count": 51,
   "id": "463122b8-98a9-48c3-869c-8a1db00d13fe",
   "metadata": {},
   "outputs": [
    {
     "data": {
      "text/plain": [
       "False"
      ]
     },
     "execution_count": 51,
     "metadata": {},
     "output_type": "execute_result"
    }
   ],
   "source": [
    "10<5"
   ]
  },
  {
   "cell_type": "code",
   "execution_count": 52,
   "id": "8eaae944-b378-4ee5-934a-b0f5ef12c7cc",
   "metadata": {},
   "outputs": [
    {
     "data": {
      "text/plain": [
       "True"
      ]
     },
     "execution_count": 52,
     "metadata": {},
     "output_type": "execute_result"
    }
   ],
   "source": [
    "True and True"
   ]
  },
  {
   "cell_type": "code",
   "execution_count": 53,
   "id": "5062109d-5df4-4bdb-a87d-77f837f3ff7e",
   "metadata": {},
   "outputs": [
    {
     "data": {
      "text/plain": [
       "False"
      ]
     },
     "execution_count": 53,
     "metadata": {},
     "output_type": "execute_result"
    }
   ],
   "source": [
    "True and False"
   ]
  },
  {
   "cell_type": "code",
   "execution_count": 54,
   "id": "98d10406-4b96-402f-9e15-1d526d603eff",
   "metadata": {},
   "outputs": [
    {
     "data": {
      "text/plain": [
       "False"
      ]
     },
     "execution_count": 54,
     "metadata": {},
     "output_type": "execute_result"
    }
   ],
   "source": [
    "False and False"
   ]
  },
  {
   "cell_type": "code",
   "execution_count": 55,
   "id": "0c909f0b-9ba1-4226-af95-79f43ed7d637",
   "metadata": {},
   "outputs": [
    {
     "data": {
      "text/plain": [
       "False"
      ]
     },
     "execution_count": 55,
     "metadata": {},
     "output_type": "execute_result"
    }
   ],
   "source": [
    "False or False"
   ]
  },
  {
   "cell_type": "code",
   "execution_count": 56,
   "id": "77606a16-8418-45ac-9f45-8db7268e4704",
   "metadata": {},
   "outputs": [
    {
     "data": {
      "text/plain": [
       "True"
      ]
     },
     "execution_count": 56,
     "metadata": {},
     "output_type": "execute_result"
    }
   ],
   "source": [
    "True or True"
   ]
  },
  {
   "cell_type": "code",
   "execution_count": 57,
   "id": "8ed1fb11-0470-4e5a-a570-5da76aeafa0f",
   "metadata": {},
   "outputs": [],
   "source": [
    "a =20"
   ]
  },
  {
   "cell_type": "code",
   "execution_count": 58,
   "id": "8afd6e8d-24b8-4edb-a58c-7443ba8f2602",
   "metadata": {},
   "outputs": [
    {
     "data": {
      "text/plain": [
       "20"
      ]
     },
     "execution_count": 58,
     "metadata": {},
     "output_type": "execute_result"
    }
   ],
   "source": [
    "a"
   ]
  },
  {
   "cell_type": "code",
   "execution_count": 59,
   "id": "9b9951f1-a0f3-4894-83a5-5e04a99617f9",
   "metadata": {},
   "outputs": [],
   "source": [
    "a = a+5"
   ]
  },
  {
   "cell_type": "code",
   "execution_count": 60,
   "id": "216f603d-6288-46e3-86cc-16cc95ebc000",
   "metadata": {},
   "outputs": [
    {
     "data": {
      "text/plain": [
       "25"
      ]
     },
     "execution_count": 60,
     "metadata": {},
     "output_type": "execute_result"
    }
   ],
   "source": [
    "a"
   ]
  },
  {
   "cell_type": "code",
   "execution_count": 61,
   "id": "98f1fbd2-055c-4d78-92bb-9f65f7470102",
   "metadata": {},
   "outputs": [],
   "source": [
    "a+=5"
   ]
  },
  {
   "cell_type": "code",
   "execution_count": 62,
   "id": "af19205d-9d4a-4fa3-bb6b-688b25da0d3c",
   "metadata": {},
   "outputs": [
    {
     "data": {
      "text/plain": [
       "30"
      ]
     },
     "execution_count": 62,
     "metadata": {},
     "output_type": "execute_result"
    }
   ],
   "source": [
    "a"
   ]
  },
  {
   "cell_type": "code",
   "execution_count": 63,
   "id": "b1c1d289-1779-45c4-88c1-cc3de86e8d4b",
   "metadata": {},
   "outputs": [],
   "source": [
    "a =50"
   ]
  },
  {
   "cell_type": "code",
   "execution_count": 64,
   "id": "ebe069a3-206f-45a0-a4ef-2774051eb1f1",
   "metadata": {},
   "outputs": [],
   "source": [
    "a/=3"
   ]
  },
  {
   "cell_type": "code",
   "execution_count": 65,
   "id": "60048808-95bb-4026-ad28-0c198702ebc3",
   "metadata": {},
   "outputs": [
    {
     "data": {
      "text/plain": [
       "16.666666666666668"
      ]
     },
     "execution_count": 65,
     "metadata": {},
     "output_type": "execute_result"
    }
   ],
   "source": [
    "a"
   ]
  },
  {
   "cell_type": "code",
   "execution_count": 66,
   "id": "d0755063-7bdf-4769-bee5-4df072fab24e",
   "metadata": {},
   "outputs": [],
   "source": [
    "a*=3"
   ]
  },
  {
   "cell_type": "code",
   "execution_count": 67,
   "id": "bae455bf-b314-41c0-a5cc-55662c088124",
   "metadata": {},
   "outputs": [
    {
     "data": {
      "text/plain": [
       "50.0"
      ]
     },
     "execution_count": 67,
     "metadata": {},
     "output_type": "execute_result"
    }
   ],
   "source": [
    "a"
   ]
  },
  {
   "cell_type": "code",
   "execution_count": 68,
   "id": "5aee88e6-ce2b-4587-837c-4c79289c1321",
   "metadata": {},
   "outputs": [],
   "source": [
    "a+=1"
   ]
  },
  {
   "cell_type": "code",
   "execution_count": 69,
   "id": "ed64961d-334a-48a0-81cf-85ab03d1dcbf",
   "metadata": {},
   "outputs": [
    {
     "data": {
      "text/plain": [
       "51.0"
      ]
     },
     "execution_count": 69,
     "metadata": {},
     "output_type": "execute_result"
    }
   ],
   "source": [
    "a"
   ]
  },
  {
   "cell_type": "code",
   "execution_count": 70,
   "id": "b0cf392d-2e0c-41dd-9136-deb8cb0265b6",
   "metadata": {},
   "outputs": [
    {
     "data": {
      "text/plain": [
       "True"
      ]
     },
     "execution_count": 70,
     "metadata": {},
     "output_type": "execute_result"
    }
   ],
   "source": [
    "a = \"pwskills\"\n",
    "\n",
    "\"p\" in a"
   ]
  },
  {
   "cell_type": "code",
   "execution_count": 71,
   "id": "af4a6c94-ec8d-4aa9-8130-217779492102",
   "metadata": {},
   "outputs": [
    {
     "data": {
      "text/plain": [
       "False"
      ]
     },
     "execution_count": 71,
     "metadata": {},
     "output_type": "execute_result"
    }
   ],
   "source": [
    "\"P\" in a"
   ]
  },
  {
   "cell_type": "code",
   "execution_count": 72,
   "id": "1dd39a32-72e9-435a-b397-ae65e8ab6e0c",
   "metadata": {},
   "outputs": [
    {
     "data": {
      "text/plain": [
       "True"
      ]
     },
     "execution_count": 72,
     "metadata": {},
     "output_type": "execute_result"
    }
   ],
   "source": [
    "\"p\" in \"pwskills\""
   ]
  },
  {
   "cell_type": "code",
   "execution_count": 73,
   "id": "03b6d737-0707-4998-9ac4-57c4e9f57828",
   "metadata": {},
   "outputs": [
    {
     "data": {
      "text/plain": [
       "False"
      ]
     },
     "execution_count": 73,
     "metadata": {},
     "output_type": "execute_result"
    }
   ],
   "source": [
    "\"1\" in \"pwskills\""
   ]
  },
  {
   "cell_type": "code",
   "execution_count": 74,
   "id": "3bc58027-c128-4deb-9507-ef95b11a88f7",
   "metadata": {},
   "outputs": [],
   "source": [
    "a = [\"data\", \"science\",\"Ajay\"]"
   ]
  },
  {
   "cell_type": "code",
   "execution_count": 75,
   "id": "dd213212-4a79-4c4c-9e9a-2ffb3ad40a41",
   "metadata": {},
   "outputs": [
    {
     "data": {
      "text/plain": [
       "True"
      ]
     },
     "execution_count": 75,
     "metadata": {},
     "output_type": "execute_result"
    }
   ],
   "source": [
    "\"data\" in a"
   ]
  },
  {
   "cell_type": "code",
   "execution_count": 76,
   "id": "32d831b4-a61f-460e-9f5d-f7289cfc59c8",
   "metadata": {},
   "outputs": [
    {
     "data": {
      "text/plain": [
       "False"
      ]
     },
     "execution_count": 76,
     "metadata": {},
     "output_type": "execute_result"
    }
   ],
   "source": [
    "\"Data\" in a"
   ]
  },
  {
   "cell_type": "code",
   "execution_count": 77,
   "id": "40e830ab-5769-40a9-a86a-61b3f3428c56",
   "metadata": {},
   "outputs": [
    {
     "data": {
      "text/plain": [
       "['data', 'science', 'Ajay']"
      ]
     },
     "execution_count": 77,
     "metadata": {},
     "output_type": "execute_result"
    }
   ],
   "source": [
    " a"
   ]
  },
  {
   "cell_type": "code",
   "execution_count": 78,
   "id": "e7bd5ce2-e6cc-4dd5-a0b7-1f1f44a9d02a",
   "metadata": {},
   "outputs": [],
   "source": [
    "c=a[1]"
   ]
  },
  {
   "cell_type": "code",
   "execution_count": 79,
   "id": "c804f927-1811-48c8-a8b3-540ca75aa3f7",
   "metadata": {},
   "outputs": [
    {
     "data": {
      "text/plain": [
       "'science'"
      ]
     },
     "execution_count": 79,
     "metadata": {},
     "output_type": "execute_result"
    }
   ],
   "source": [
    "c"
   ]
  },
  {
   "cell_type": "code",
   "execution_count": 80,
   "id": "bfd9344f-c999-407f-a432-7bbe295c422e",
   "metadata": {},
   "outputs": [
    {
     "name": "stdout",
     "output_type": "stream",
     "text": [
      "SCIENCE\n"
     ]
    }
   ],
   "source": [
    "print(c.upper())"
   ]
  },
  {
   "cell_type": "code",
   "execution_count": 81,
   "id": "e28750ed-7528-4fe2-916e-c79264fe9b97",
   "metadata": {},
   "outputs": [
    {
     "name": "stdout",
     "output_type": "stream",
     "text": [
      "Science\n"
     ]
    }
   ],
   "source": [
    "print(c.capitalize())"
   ]
  },
  {
   "cell_type": "code",
   "execution_count": 82,
   "id": "0c5473d0-d0ff-4d5f-a34a-5c2401178375",
   "metadata": {},
   "outputs": [
    {
     "name": "stdout",
     "output_type": "stream",
     "text": [
      "science\n"
     ]
    }
   ],
   "source": [
    "print(c.casefold())"
   ]
  },
  {
   "cell_type": "code",
   "execution_count": 83,
   "id": "74344c64-1f01-426c-927f-644da0490ec2",
   "metadata": {},
   "outputs": [
    {
     "name": "stdout",
     "output_type": "stream",
     "text": [
      "science\n"
     ]
    }
   ],
   "source": [
    "print(c.center(2))"
   ]
  },
  {
   "cell_type": "code",
   "execution_count": 84,
   "id": "edb5e057-cade-491d-87d2-91e6d9f82087",
   "metadata": {},
   "outputs": [
    {
     "data": {
      "text/plain": [
       "'science'"
      ]
     },
     "execution_count": 84,
     "metadata": {},
     "output_type": "execute_result"
    }
   ],
   "source": [
    "c"
   ]
  },
  {
   "cell_type": "code",
   "execution_count": 85,
   "id": "86f4dee4-c845-4a03-ae49-0b0459ba3030",
   "metadata": {},
   "outputs": [
    {
     "name": "stdout",
     "output_type": "stream",
     "text": [
      "2\n"
     ]
    }
   ],
   "source": [
    "print(c.count(\"e\"))"
   ]
  },
  {
   "cell_type": "code",
   "execution_count": 86,
   "id": "7570aeaa-d26c-4233-b2a1-125acb984ddc",
   "metadata": {},
   "outputs": [
    {
     "name": "stdout",
     "output_type": "stream",
     "text": [
      "1\n"
     ]
    }
   ],
   "source": [
    "print(c.count(\"s\"))"
   ]
  },
  {
   "cell_type": "code",
   "execution_count": 87,
   "id": "a4f6e0ea-8cd6-4368-bb64-e829a062e398",
   "metadata": {},
   "outputs": [
    {
     "name": "stdout",
     "output_type": "stream",
     "text": [
      "b'science'\n"
     ]
    }
   ],
   "source": [
    "print(c.encode())"
   ]
  },
  {
   "cell_type": "code",
   "execution_count": 88,
   "id": "6cb79b6c-7921-42f4-9a45-aeb9e46044ad",
   "metadata": {},
   "outputs": [
    {
     "name": "stdout",
     "output_type": "stream",
     "text": [
      "True\n"
     ]
    }
   ],
   "source": [
    "print(c.endswith(\"e\"))"
   ]
  },
  {
   "cell_type": "code",
   "execution_count": 89,
   "id": "b6e0ea5d-c31d-4d23-a785-069e548861a5",
   "metadata": {},
   "outputs": [
    {
     "name": "stdout",
     "output_type": "stream",
     "text": [
      "False\n"
     ]
    }
   ],
   "source": [
    "print(c.endswith(\"s\"))"
   ]
  },
  {
   "cell_type": "code",
   "execution_count": 90,
   "id": "b8eb463c-6350-4508-b2a9-d078e1e45bcd",
   "metadata": {},
   "outputs": [
    {
     "name": "stdout",
     "output_type": "stream",
     "text": [
      "2\n"
     ]
    }
   ],
   "source": [
    "print(c.find(\"i\"))"
   ]
  },
  {
   "cell_type": "code",
   "execution_count": 91,
   "id": "84eda3ff-a5e1-4f14-b03b-952d94c96b94",
   "metadata": {},
   "outputs": [
    {
     "name": "stdout",
     "output_type": "stream",
     "text": [
      "2\n"
     ]
    }
   ],
   "source": [
    "print(c.index(\"i\"))"
   ]
  },
  {
   "cell_type": "code",
   "execution_count": 92,
   "id": "7ba6d120-a0af-44a6-92d3-8cb58e5d4b57",
   "metadata": {},
   "outputs": [
    {
     "name": "stdout",
     "output_type": "stream",
     "text": [
      "science\n"
     ]
    }
   ],
   "source": [
    "print(c.format())"
   ]
  },
  {
   "cell_type": "code",
   "execution_count": 93,
   "id": "c9633d9b-b65b-436c-981e-074759e99b58",
   "metadata": {},
   "outputs": [
    {
     "name": "stdout",
     "output_type": "stream",
     "text": [
      "True\n"
     ]
    }
   ],
   "source": [
    "print(c.isalnum())"
   ]
  },
  {
   "cell_type": "code",
   "execution_count": 94,
   "id": "8d336d02-3694-4448-b686-4ae4ede6ca3f",
   "metadata": {},
   "outputs": [
    {
     "name": "stdout",
     "output_type": "stream",
     "text": [
      "True\n"
     ]
    }
   ],
   "source": [
    "print(c.isalpha())"
   ]
  },
  {
   "cell_type": "code",
   "execution_count": 95,
   "id": "b10465d8-2fc3-4e14-820c-0b57fa073630",
   "metadata": {},
   "outputs": [
    {
     "name": "stdout",
     "output_type": "stream",
     "text": [
      "False\n"
     ]
    }
   ],
   "source": [
    "print(c.isdigit())"
   ]
  },
  {
   "cell_type": "code",
   "execution_count": 96,
   "id": "746f4604-f6df-4664-9333-030ebf786a15",
   "metadata": {},
   "outputs": [
    {
     "name": "stdout",
     "output_type": "stream",
     "text": [
      "False\n"
     ]
    }
   ],
   "source": [
    "print(c.isnumeric())"
   ]
  },
  {
   "cell_type": "code",
   "execution_count": 97,
   "id": "300c2fd3-62fc-473e-9175-d29b9bdff00d",
   "metadata": {},
   "outputs": [
    {
     "name": "stdout",
     "output_type": "stream",
     "text": [
      "('sc', 'i', 'ence')\n"
     ]
    }
   ],
   "source": [
    "print(c.partition(\"i\"))"
   ]
  },
  {
   "cell_type": "code",
   "execution_count": 98,
   "id": "65e06f4d-47ce-40a5-967d-53e68f43fc2d",
   "metadata": {},
   "outputs": [
    {
     "name": "stdout",
     "output_type": "stream",
     "text": [
      "('sci', 'e', 'nce')\n"
     ]
    }
   ],
   "source": [
    "print(c.partition(\"e\"))"
   ]
  },
  {
   "cell_type": "code",
   "execution_count": 99,
   "id": "608790af-6b31-4b8b-864f-5a7e8bfec489",
   "metadata": {},
   "outputs": [
    {
     "name": "stdout",
     "output_type": "stream",
     "text": [
      "('', 's', 'cience')\n"
     ]
    }
   ],
   "source": [
    "print(c.partition(\"s\"))"
   ]
  },
  {
   "cell_type": "code",
   "execution_count": 100,
   "id": "139f9c3e-d276-4ad1-b96c-4619a308d1bb",
   "metadata": {},
   "outputs": [
    {
     "data": {
      "text/plain": [
       "'science'"
      ]
     },
     "execution_count": 100,
     "metadata": {},
     "output_type": "execute_result"
    }
   ],
   "source": [
    "c"
   ]
  },
  {
   "cell_type": "code",
   "execution_count": 101,
   "id": "2ea614f2-799e-4f91-8541-8e8ffb1e596c",
   "metadata": {},
   "outputs": [
    {
     "name": "stdout",
     "output_type": "stream",
     "text": [
      "Science\n"
     ]
    }
   ],
   "source": [
    "print(c.replace(\"s\", \"S\"))"
   ]
  },
  {
   "cell_type": "code",
   "execution_count": 102,
   "id": "16b51ac0-4d62-49a1-a11e-d78026fab24c",
   "metadata": {},
   "outputs": [
    {
     "name": "stdout",
     "output_type": "stream",
     "text": [
      "SCience\n"
     ]
    }
   ],
   "source": [
    "print(c.replace(\"sc\", \"SC\"))"
   ]
  },
  {
   "cell_type": "code",
   "execution_count": 103,
   "id": "d5995fc4-5663-4892-b469-148ccd4398ef",
   "metadata": {},
   "outputs": [
    {
     "name": "stdout",
     "output_type": "stream",
     "text": [
      "science\n"
     ]
    }
   ],
   "source": [
    "print(c.replace(\"scn\", \"SCN\"))"
   ]
  },
  {
   "cell_type": "code",
   "execution_count": 104,
   "id": "ec016280-8ef1-47ff-b5fb-0b925a2747ac",
   "metadata": {},
   "outputs": [
    {
     "name": "stdout",
     "output_type": "stream",
     "text": [
      "SCIENCE\n"
     ]
    }
   ],
   "source": [
    "print(c.replace(\"science\", \"SCIENCE\"))"
   ]
  },
  {
   "cell_type": "code",
   "execution_count": 105,
   "id": "863babda-0ff0-4fa4-a464-c8ca736e8eee",
   "metadata": {},
   "outputs": [
    {
     "data": {
      "text/plain": [
       "'science'"
      ]
     },
     "execution_count": 105,
     "metadata": {},
     "output_type": "execute_result"
    }
   ],
   "source": [
    "c"
   ]
  },
  {
   "cell_type": "code",
   "execution_count": 106,
   "id": "49d55dd5-f92a-4d2d-8ff5-6147c62e4977",
   "metadata": {},
   "outputs": [
    {
     "name": "stdout",
     "output_type": "stream",
     "text": [
      "6\n"
     ]
    }
   ],
   "source": [
    "print(c.rfind(\"e\"))"
   ]
  },
  {
   "cell_type": "code",
   "execution_count": 107,
   "id": "38e4fb2d-285b-4a77-91cd-9f3a25f11a2e",
   "metadata": {},
   "outputs": [
    {
     "name": "stdout",
     "output_type": "stream",
     "text": [
      "0\n"
     ]
    }
   ],
   "source": [
    "print(c.rfind(\"s\"))"
   ]
  },
  {
   "cell_type": "code",
   "execution_count": 108,
   "id": "b32f62f1-5b15-4d20-96e2-7d4a80b8df30",
   "metadata": {},
   "outputs": [
    {
     "name": "stdout",
     "output_type": "stream",
     "text": [
      "6\n"
     ]
    }
   ],
   "source": [
    "print(c.rindex(\"e\"))"
   ]
  },
  {
   "cell_type": "code",
   "execution_count": 109,
   "id": "30c514cb-5eb5-463a-88bc-19ab077e65b4",
   "metadata": {},
   "outputs": [
    {
     "name": "stdout",
     "output_type": "stream",
     "text": [
      "('sc', 'i', 'ence')\n"
     ]
    }
   ],
   "source": [
    "print(c.rpartition(\"i\"))"
   ]
  },
  {
   "cell_type": "code",
   "execution_count": 110,
   "id": "e36a7dbb-59d6-449d-acb8-f758930bc1ab",
   "metadata": {},
   "outputs": [
    {
     "name": "stdout",
     "output_type": "stream",
     "text": [
      "['sc', 'ence']\n"
     ]
    }
   ],
   "source": [
    "print(c.rsplit(\"i\"))"
   ]
  },
  {
   "cell_type": "code",
   "execution_count": 111,
   "id": "32312e03-3887-4a74-82ef-eccff7bbc794",
   "metadata": {},
   "outputs": [
    {
     "name": "stdout",
     "output_type": "stream",
     "text": [
      "science\n"
     ]
    }
   ],
   "source": [
    "print(c.rstrip())"
   ]
  },
  {
   "cell_type": "code",
   "execution_count": 112,
   "id": "927547a5-6bd2-4dfd-a007-ca0fba146253",
   "metadata": {},
   "outputs": [
    {
     "name": "stdout",
     "output_type": "stream",
     "text": [
      "science\n"
     ]
    }
   ],
   "source": [
    "print(c.rstrip(\"s\"))"
   ]
  },
  {
   "cell_type": "code",
   "execution_count": 113,
   "id": "fc82ff63-0814-4f9c-acf6-a91a762d7cf2",
   "metadata": {},
   "outputs": [
    {
     "name": "stdout",
     "output_type": "stream",
     "text": [
      "['science']\n"
     ]
    }
   ],
   "source": [
    "print(c.split())"
   ]
  },
  {
   "cell_type": "code",
   "execution_count": 114,
   "id": "b3c03735-e091-4814-9d29-1c0ace6d2e77",
   "metadata": {},
   "outputs": [
    {
     "name": "stdout",
     "output_type": "stream",
     "text": [
      "['sc', 'ence']\n"
     ]
    }
   ],
   "source": [
    "print(c.split(\"i\"))"
   ]
  },
  {
   "cell_type": "code",
   "execution_count": 115,
   "id": "ce11db67-d5d3-41ed-b7b2-a792f8db0833",
   "metadata": {},
   "outputs": [
    {
     "name": "stdout",
     "output_type": "stream",
     "text": [
      "['scie', 'ce']\n"
     ]
    }
   ],
   "source": [
    "print(c.split(\"n\"))"
   ]
  },
  {
   "cell_type": "code",
   "execution_count": 116,
   "id": "78d28ebd-5183-4c3e-8a6c-fb083eafe319",
   "metadata": {},
   "outputs": [
    {
     "name": "stdout",
     "output_type": "stream",
     "text": [
      "['science']\n"
     ]
    }
   ],
   "source": [
    "print(c.splitlines())"
   ]
  },
  {
   "cell_type": "code",
   "execution_count": 117,
   "id": "c19ad5fe-da73-4154-ab5b-98b95bacaac9",
   "metadata": {},
   "outputs": [
    {
     "name": "stdout",
     "output_type": "stream",
     "text": [
      "False\n"
     ]
    }
   ],
   "source": [
    "print(c.startswith(\"k\"))"
   ]
  },
  {
   "cell_type": "code",
   "execution_count": 118,
   "id": "771c29e5-6476-46c5-a9ae-0134c2989cd9",
   "metadata": {},
   "outputs": [
    {
     "name": "stdout",
     "output_type": "stream",
     "text": [
      "science\n"
     ]
    }
   ],
   "source": [
    "print(c.strip())"
   ]
  },
  {
   "cell_type": "code",
   "execution_count": 119,
   "id": "3ab8311d-7153-4cd3-8874-b72a32174b76",
   "metadata": {},
   "outputs": [
    {
     "name": "stdout",
     "output_type": "stream",
     "text": [
      "SCIENCE\n"
     ]
    }
   ],
   "source": [
    "print(c.swapcase())"
   ]
  },
  {
   "cell_type": "code",
   "execution_count": 120,
   "id": "540cccc9-fd59-42d7-8263-2efda6691ff0",
   "metadata": {},
   "outputs": [
    {
     "ename": "NameError",
     "evalue": "name 'D' is not defined",
     "output_type": "error",
     "traceback": [
      "\u001b[0;31m---------------------------------------------------------------------------\u001b[0m",
      "\u001b[0;31mNameError\u001b[0m                                 Traceback (most recent call last)",
      "\u001b[0;32m/var/folders/dd/s1dxkjxj4txghztj47169hn80000gn/T/ipykernel_10580/338496691.py\u001b[0m in \u001b[0;36m<module>\u001b[0;34m\u001b[0m\n\u001b[0;32m----> 1\u001b[0;31m \u001b[0mD\u001b[0m \u001b[0;34m==\u001b[0m \u001b[0mprint\u001b[0m\u001b[0;34m(\u001b[0m\u001b[0mc\u001b[0m\u001b[0;34m.\u001b[0m\u001b[0mswapcase\u001b[0m\u001b[0;34m(\u001b[0m\u001b[0;34m)\u001b[0m\u001b[0;34m)\u001b[0m\u001b[0;34m\u001b[0m\u001b[0;34m\u001b[0m\u001b[0m\n\u001b[0m",
      "\u001b[0;31mNameError\u001b[0m: name 'D' is not defined"
     ]
    }
   ],
   "source": [
    "D == print(c.swapcase())"
   ]
  },
  {
   "cell_type": "code",
   "execution_count": 121,
   "id": "6f46969b-a512-4a46-933e-b9a792b3f6bd",
   "metadata": {},
   "outputs": [],
   "source": [
    "D = c.swapcase()"
   ]
  },
  {
   "cell_type": "code",
   "execution_count": 122,
   "id": "d2d17142-8f4b-43ac-ac90-f94c44de3208",
   "metadata": {},
   "outputs": [
    {
     "data": {
      "text/plain": [
       "'science'"
      ]
     },
     "execution_count": 122,
     "metadata": {},
     "output_type": "execute_result"
    }
   ],
   "source": [
    "c"
   ]
  },
  {
   "cell_type": "code",
   "execution_count": 123,
   "id": "992069ef-b148-400f-8cdf-6d48ca972246",
   "metadata": {},
   "outputs": [
    {
     "data": {
      "text/plain": [
       "'SCIENCE'"
      ]
     },
     "execution_count": 123,
     "metadata": {},
     "output_type": "execute_result"
    }
   ],
   "source": [
    "D"
   ]
  },
  {
   "cell_type": "code",
   "execution_count": 124,
   "id": "f8dbbcbb-a910-497f-a6b6-2d67d3ec7669",
   "metadata": {},
   "outputs": [
    {
     "data": {
      "text/plain": [
       "'science'"
      ]
     },
     "execution_count": 124,
     "metadata": {},
     "output_type": "execute_result"
    }
   ],
   "source": [
    "D.swapcase()"
   ]
  },
  {
   "cell_type": "code",
   "execution_count": 125,
   "id": "b6c1f815-392e-4d0c-ad1d-17520fc0a2c9",
   "metadata": {},
   "outputs": [
    {
     "name": "stdout",
     "output_type": "stream",
     "text": [
      "Science\n"
     ]
    }
   ],
   "source": [
    "print(c.title())"
   ]
  },
  {
   "cell_type": "code",
   "execution_count": 126,
   "id": "280637a6-7e9a-478f-8a84-b9d9e85118a9",
   "metadata": {},
   "outputs": [
    {
     "name": "stdout",
     "output_type": "stream",
     "text": [
      "Science\n"
     ]
    }
   ],
   "source": [
    "print(D.title())"
   ]
  },
  {
   "cell_type": "code",
   "execution_count": 127,
   "id": "b28a1c09-5050-4ef2-a621-818c441d034a",
   "metadata": {},
   "outputs": [
    {
     "name": "stdout",
     "output_type": "stream",
     "text": [
      "science\n"
     ]
    }
   ],
   "source": [
    "print(c.zfill(2))"
   ]
  },
  {
   "cell_type": "code",
   "execution_count": 128,
   "id": "c997cfa0-242f-4fb9-a9f3-00f6fbf7b658",
   "metadata": {},
   "outputs": [
    {
     "name": "stdout",
     "output_type": "stream",
     "text": [
      "science\n"
     ]
    }
   ],
   "source": [
    "print(c.zfill(4))"
   ]
  },
  {
   "cell_type": "code",
   "execution_count": 129,
   "id": "db8c3f7f-1e08-4e8e-8ae6-86bd5e3b5ee9",
   "metadata": {},
   "outputs": [
    {
     "data": {
      "text/plain": [
       "'science'"
      ]
     },
     "execution_count": 129,
     "metadata": {},
     "output_type": "execute_result"
    }
   ],
   "source": [
    "c"
   ]
  },
  {
   "cell_type": "code",
   "execution_count": 130,
   "id": "4eb69d27-250f-4090-9417-7c71eeed813a",
   "metadata": {},
   "outputs": [
    {
     "data": {
      "text/plain": [
       "-4"
      ]
     },
     "execution_count": 130,
     "metadata": {},
     "output_type": "execute_result"
    }
   ],
   "source": [
    "~3"
   ]
  },
  {
   "cell_type": "code",
   "execution_count": 131,
   "id": "11f93d99-dab3-4b2b-b954-9fb15c852c1e",
   "metadata": {},
   "outputs": [
    {
     "data": {
      "text/plain": [
       "-5"
      ]
     },
     "execution_count": 131,
     "metadata": {},
     "output_type": "execute_result"
    }
   ],
   "source": [
    "~4"
   ]
  },
  {
   "cell_type": "code",
   "execution_count": 132,
   "id": "a1e29eb3-83f3-4011-88ee-9cb43d1bab85",
   "metadata": {},
   "outputs": [
    {
     "data": {
      "text/plain": [
       "7"
      ]
     },
     "execution_count": 132,
     "metadata": {},
     "output_type": "execute_result"
    }
   ],
   "source": [
    "3 | 5"
   ]
  },
  {
   "cell_type": "code",
   "execution_count": 133,
   "id": "33236023-20b2-4283-86f0-ef021cf91356",
   "metadata": {},
   "outputs": [
    {
     "data": {
      "text/plain": [
       "'0b11'"
      ]
     },
     "execution_count": 133,
     "metadata": {},
     "output_type": "execute_result"
    }
   ],
   "source": [
    "bin(3)"
   ]
  },
  {
   "cell_type": "code",
   "execution_count": 134,
   "id": "ce62f69b-9999-4746-b502-fcf5a71920ee",
   "metadata": {},
   "outputs": [
    {
     "data": {
      "text/plain": [
       "'0b110b101'"
      ]
     },
     "execution_count": 134,
     "metadata": {},
     "output_type": "execute_result"
    }
   ],
   "source": [
    "bin(3) + bin(5)"
   ]
  },
  {
   "cell_type": "code",
   "execution_count": 135,
   "id": "0e957f3a-cdeb-4e31-8566-86b448ba1915",
   "metadata": {},
   "outputs": [
    {
     "data": {
      "text/plain": [
       "'0b100011000'"
      ]
     },
     "execution_count": 135,
     "metadata": {},
     "output_type": "execute_result"
    }
   ],
   "source": [
    "bin(280)"
   ]
  },
  {
   "cell_type": "code",
   "execution_count": 136,
   "id": "cf42983d-e00e-4164-a0e8-1113e6f4aee9",
   "metadata": {},
   "outputs": [
    {
     "data": {
      "text/plain": [
       "10"
      ]
     },
     "execution_count": 136,
     "metadata": {},
     "output_type": "execute_result"
    }
   ],
   "source": [
    "5 << 1"
   ]
  },
  {
   "cell_type": "code",
   "execution_count": 137,
   "id": "fe033abd-e655-488f-902c-967b4d8febcd",
   "metadata": {},
   "outputs": [
    {
     "data": {
      "text/plain": [
       "'0b101'"
      ]
     },
     "execution_count": 137,
     "metadata": {},
     "output_type": "execute_result"
    }
   ],
   "source": [
    "bin(5)"
   ]
  },
  {
   "cell_type": "code",
   "execution_count": 138,
   "id": "fa7f13a4-644e-4f0a-9f4e-5fb7d6734582",
   "metadata": {},
   "outputs": [
    {
     "data": {
      "text/plain": [
       "'0b1010'"
      ]
     },
     "execution_count": 138,
     "metadata": {},
     "output_type": "execute_result"
    }
   ],
   "source": [
    "bin(10)"
   ]
  },
  {
   "cell_type": "code",
   "execution_count": 139,
   "id": "98a5ef1d-7ea2-4fa6-a8c2-0b593214b0a0",
   "metadata": {},
   "outputs": [
    {
     "data": {
      "text/plain": [
       "2"
      ]
     },
     "execution_count": 139,
     "metadata": {},
     "output_type": "execute_result"
    }
   ],
   "source": [
    "5>>1"
   ]
  },
  {
   "cell_type": "code",
   "execution_count": 140,
   "id": "1382bc69-653b-42f3-a5ad-2da9980d79c6",
   "metadata": {},
   "outputs": [
    {
     "data": {
      "text/plain": [
       "'0b101'"
      ]
     },
     "execution_count": 140,
     "metadata": {},
     "output_type": "execute_result"
    }
   ],
   "source": [
    "bin(5)"
   ]
  },
  {
   "cell_type": "code",
   "execution_count": 141,
   "id": "6c78d89e-34cc-4ae6-bc2e-068bb4ddc4e0",
   "metadata": {},
   "outputs": [
    {
     "data": {
      "text/plain": [
       "'0b10'"
      ]
     },
     "execution_count": 141,
     "metadata": {},
     "output_type": "execute_result"
    }
   ],
   "source": [
    "bin(2)"
   ]
  },
  {
   "cell_type": "code",
   "execution_count": 142,
   "id": "4cfa0bd7-a6a1-4d7b-a545-0f12c580818b",
   "metadata": {},
   "outputs": [
    {
     "data": {
      "text/plain": [
       "72"
      ]
     },
     "execution_count": 142,
     "metadata": {},
     "output_type": "execute_result"
    }
   ],
   "source": [
    "290 >> 2"
   ]
  },
  {
   "cell_type": "code",
   "execution_count": 143,
   "id": "bed63468-0046-4e5f-806e-c97f62e44519",
   "metadata": {},
   "outputs": [
    {
     "data": {
      "text/plain": [
       "'0b100100010'"
      ]
     },
     "execution_count": 143,
     "metadata": {},
     "output_type": "execute_result"
    }
   ],
   "source": [
    "bin(290)"
   ]
  },
  {
   "cell_type": "code",
   "execution_count": 144,
   "id": "416f5b80-9dfd-4086-8ee6-875ac2ffb40b",
   "metadata": {},
   "outputs": [
    {
     "data": {
      "text/plain": [
       "'0b1001000'"
      ]
     },
     "execution_count": 144,
     "metadata": {},
     "output_type": "execute_result"
    }
   ],
   "source": [
    "bin(72)"
   ]
  },
  {
   "cell_type": "code",
   "execution_count": 145,
   "id": "7747e2cb-3a3e-47a3-b447-7e18e55f016e",
   "metadata": {},
   "outputs": [],
   "source": [
    "a = \"5\""
   ]
  },
  {
   "cell_type": "code",
   "execution_count": 146,
   "id": "6bc44df4-e737-4ef7-9e11-82448b666c46",
   "metadata": {},
   "outputs": [
    {
     "data": {
      "text/plain": [
       "str"
      ]
     },
     "execution_count": 146,
     "metadata": {},
     "output_type": "execute_result"
    }
   ],
   "source": [
    "type(a)"
   ]
  },
  {
   "cell_type": "code",
   "execution_count": 147,
   "id": "28c1d817-9016-4398-a8c8-f5d5659346ce",
   "metadata": {},
   "outputs": [
    {
     "data": {
      "text/plain": [
       "'565'"
      ]
     },
     "execution_count": 147,
     "metadata": {},
     "output_type": "execute_result"
    }
   ],
   "source": [
    "a + \"65\""
   ]
  },
  {
   "cell_type": "code",
   "execution_count": 148,
   "id": "4f6504ee-d8cf-42d1-8f59-72edfdfa4f61",
   "metadata": {},
   "outputs": [
    {
     "data": {
      "text/plain": [
       "70"
      ]
     },
     "execution_count": 148,
     "metadata": {},
     "output_type": "execute_result"
    }
   ],
   "source": [
    "int(a)+65"
   ]
  },
  {
   "cell_type": "code",
   "execution_count": 149,
   "id": "12c8f7e7-3746-4641-b154-73eb953a1750",
   "metadata": {},
   "outputs": [],
   "source": [
    "c = \"shyam\""
   ]
  },
  {
   "cell_type": "code",
   "execution_count": 150,
   "id": "89cf72fd-039c-45c9-a453-e7e39c0fd1f4",
   "metadata": {},
   "outputs": [],
   "source": [
    "d = \"Ram\""
   ]
  },
  {
   "cell_type": "code",
   "execution_count": 151,
   "id": "bea72c75-a14a-4782-a9a2-6954759f7a5a",
   "metadata": {},
   "outputs": [
    {
     "data": {
      "text/plain": [
       "'shyamRam'"
      ]
     },
     "execution_count": 151,
     "metadata": {},
     "output_type": "execute_result"
    }
   ],
   "source": [
    "c + d"
   ]
  },
  {
   "cell_type": "code",
   "execution_count": 152,
   "id": "ccfc70da-7d89-4812-bc34-2d7d0bfac3af",
   "metadata": {},
   "outputs": [],
   "source": [
    "b = 65"
   ]
  },
  {
   "cell_type": "code",
   "execution_count": 153,
   "id": "d2c1d304-e84b-4f04-93de-7f383ea91abf",
   "metadata": {},
   "outputs": [
    {
     "ename": "TypeError",
     "evalue": "can only concatenate str (not \"int\") to str",
     "output_type": "error",
     "traceback": [
      "\u001b[0;31m---------------------------------------------------------------------------\u001b[0m",
      "\u001b[0;31mTypeError\u001b[0m                                 Traceback (most recent call last)",
      "\u001b[0;32m/var/folders/dd/s1dxkjxj4txghztj47169hn80000gn/T/ipykernel_10580/3553919051.py\u001b[0m in \u001b[0;36m<module>\u001b[0;34m\u001b[0m\n\u001b[0;32m----> 1\u001b[0;31m \u001b[0ma\u001b[0m\u001b[0;34m+\u001b[0m\u001b[0mb\u001b[0m\u001b[0;34m\u001b[0m\u001b[0;34m\u001b[0m\u001b[0m\n\u001b[0m",
      "\u001b[0;31mTypeError\u001b[0m: can only concatenate str (not \"int\") to str"
     ]
    }
   ],
   "source": [
    "a+b"
   ]
  },
  {
   "cell_type": "code",
   "execution_count": 154,
   "id": "06a5ecff-b21e-4f11-9616-660afb627b93",
   "metadata": {},
   "outputs": [
    {
     "data": {
      "text/plain": [
       "'5Ram'"
      ]
     },
     "execution_count": 154,
     "metadata": {},
     "output_type": "execute_result"
    }
   ],
   "source": [
    "a+d"
   ]
  },
  {
   "cell_type": "code",
   "execution_count": 155,
   "id": "cfe7dc4e-2005-4065-85fd-da8c9bc7c4f8",
   "metadata": {},
   "outputs": [
    {
     "name": "stdin",
     "output_type": "stream",
     "text": [
      "Enter any number 4\n"
     ]
    }
   ],
   "source": [
    "a = int(input(\"Enter any number\"))"
   ]
  },
  {
   "cell_type": "code",
   "execution_count": 156,
   "id": "58130f40-5485-489d-b980-46a5c39d1dbf",
   "metadata": {},
   "outputs": [
    {
     "name": "stdin",
     "output_type": "stream",
     "text": [
      "Enter any number 6\n"
     ]
    },
    {
     "name": "stdout",
     "output_type": "stream",
     "text": [
      "its a +ve number\n"
     ]
    }
   ],
   "source": [
    "a = int(input(\"Enter any number\"))\n",
    "\n",
    "if a>0:\n",
    "    print(\"its a +ve number\")\n",
    "elif a<0:\n",
    "    print(\"its a -ve num\")\n",
    "else:\n",
    "    print(\"its Zero\")"
   ]
  },
  {
   "cell_type": "code",
   "execution_count": 157,
   "id": "7c00910e-7425-4709-a8da-558219740545",
   "metadata": {},
   "outputs": [
    {
     "name": "stdin",
     "output_type": "stream",
     "text": [
      "Enter any num 9\n"
     ]
    },
    {
     "name": "stdout",
     "output_type": "stream",
     "text": [
      "its a odd num\n"
     ]
    }
   ],
   "source": [
    "a = int(input(\"Enter any num\"))\n",
    "\n",
    "if a%2 == 0:\n",
    "    print(\"its a even num\")\n",
    "    \n",
    "else:\n",
    "    \n",
    "    print(\"its a odd num\")"
   ]
  },
  {
   "cell_type": "code",
   "execution_count": 158,
   "id": "ca4dfc19-6d2c-4182-905f-90033c66ea2a",
   "metadata": {},
   "outputs": [
    {
     "name": "stdin",
     "output_type": "stream",
     "text": [
      "Enter your name  sang\n",
      "Enter ur email add @432\n",
      "Enter a PW #1998\n"
     ]
    },
    {
     "name": "stdout",
     "output_type": "stream",
     "text": [
      "Registraion successful\n"
     ]
    }
   ],
   "source": [
    "name = input(\"Enter your name \")\n",
    "\n",
    "\n",
    "if name == \"\":\n",
    "    print(\"name can not be empty\")\n",
    "else:\n",
    "    email = input(\"Enter ur email add\")\n",
    "    if \"@\" not in email:\n",
    "        print(\"Email is incorrect\")\n",
    "    else:\n",
    "        pw = input(\"Enter a PW\")\n",
    "        if \"#\" not in pw :\n",
    "        \n",
    "            print(\"PW is incorrect\")\n",
    "        else:\n",
    "            print(\"Registraion successful\")"
   ]
  },
  {
   "cell_type": "code",
   "execution_count": 159,
   "id": "9f054af4-0c4c-43c6-91ec-e3f38a708116",
   "metadata": {},
   "outputs": [
    {
     "name": "stdout",
     "output_type": "stream",
     "text": [
      "1\n",
      "2\n",
      "3\n",
      "4\n",
      "5\n",
      "6\n"
     ]
    }
   ],
   "source": [
    "n = 7\n",
    "i = 1 \n",
    "\n",
    "while i<n:\n",
    "    print(i)\n",
    "    i+=1"
   ]
  },
  {
   "cell_type": "code",
   "execution_count": 160,
   "id": "d90dee8b-6acc-42c3-92b0-bdb5aade699f",
   "metadata": {},
   "outputs": [
    {
     "name": "stdout",
     "output_type": "stream",
     "text": [
      "8\n",
      "7\n",
      "6\n",
      "5\n",
      "4\n",
      "3\n",
      "2\n",
      "1\n"
     ]
    }
   ],
   "source": [
    "n = 8 \n",
    "while n>0 :\n",
    "    print(n)\n",
    "    n-=1"
   ]
  },
  {
   "cell_type": "code",
   "execution_count": 161,
   "id": "f2683f09-8106-4e77-8d27-c0014626d665",
   "metadata": {},
   "outputs": [
    {
     "name": "stdout",
     "output_type": "stream",
     "text": [
      "********\n",
      "*******\n",
      "******\n",
      "*****\n",
      "****\n",
      "***\n",
      "**\n",
      "*\n"
     ]
    }
   ],
   "source": [
    "n = 8 \n",
    "while n>0 :\n",
    "    print(n*\"*\")\n",
    "    n-=1"
   ]
  },
  {
   "cell_type": "code",
   "execution_count": 163,
   "id": "45bd9638-0263-44ba-96b0-fa1586c8f494",
   "metadata": {},
   "outputs": [],
   "source": [
    "n = 8 \n",
    "i = 1\n",
    "while n<i:\n",
    "    print(n*\"*\")\n",
    "    n+=1"
   ]
  },
  {
   "cell_type": "code",
   "execution_count": 165,
   "id": "da21e698-12a2-40f8-964e-9f7101f9beaa",
   "metadata": {},
   "outputs": [],
   "source": [
    "n = 8 \n",
    "i = 1\n",
    "while n<i:\n",
    "    print(n*\"*\")\n",
    "    n-=1"
   ]
  },
  {
   "cell_type": "code",
   "execution_count": 166,
   "id": "e2895f13-1263-479d-8ba0-e212e31486c3",
   "metadata": {},
   "outputs": [],
   "source": [
    "b=7"
   ]
  },
  {
   "cell_type": "code",
   "execution_count": 167,
   "id": "0e6f84eb-139b-4072-9e93-5bfc815466bd",
   "metadata": {},
   "outputs": [
    {
     "data": {
      "text/plain": [
       "7"
      ]
     },
     "execution_count": 167,
     "metadata": {},
     "output_type": "execute_result"
    }
   ],
   "source": [
    "b"
   ]
  },
  {
   "cell_type": "code",
   "execution_count": 169,
   "id": "f7f6118c-85a8-4f50-b84a-34b5f31d7e82",
   "metadata": {},
   "outputs": [
    {
     "name": "stdout",
     "output_type": "stream",
     "text": [
      "2\n",
      "4\n",
      "5\n",
      "6\n",
      "7\n",
      "This will be executed when the while loop eneded\n"
     ]
    }
   ],
   "source": [
    "n = 7\n",
    "i = 1 \n",
    "\n",
    "while i < n:\n",
    "    i = i+1\n",
    "    if i == 3:\n",
    "        continue \n",
    "    print(i)\n",
    "else:\n",
    "    print(\"This will be executed when the while loop eneded\")"
   ]
  },
  {
   "cell_type": "code",
   "execution_count": null,
   "id": "cbbfa7f8-0abf-4b2c-ace9-fed4c66fcbe4",
   "metadata": {},
   "outputs": [],
   "source": []
  },
  {
   "cell_type": "code",
   "execution_count": null,
   "id": "a2dde894-9e6b-4599-a448-192dba2cb8f6",
   "metadata": {},
   "outputs": [],
   "source": []
  },
  {
   "cell_type": "code",
   "execution_count": null,
   "id": "15600a63-18d1-4f29-b22d-958245d1b34c",
   "metadata": {},
   "outputs": [],
   "source": []
  },
  {
   "cell_type": "code",
   "execution_count": null,
   "id": "207e82a9-3bc7-454b-93d3-3ab8ede13810",
   "metadata": {},
   "outputs": [],
   "source": []
  },
  {
   "cell_type": "code",
   "execution_count": null,
   "id": "ca76e27e-ba2b-407b-a285-b472f8a52942",
   "metadata": {},
   "outputs": [],
   "source": []
  }
 ],
 "metadata": {
  "kernelspec": {
   "display_name": "Python 3 (ipykernel)",
   "language": "python",
   "name": "python3"
  },
  "language_info": {
   "codemirror_mode": {
    "name": "ipython",
    "version": 3
   },
   "file_extension": ".py",
   "mimetype": "text/x-python",
   "name": "python",
   "nbconvert_exporter": "python",
   "pygments_lexer": "ipython3",
   "version": "3.9.7"
  }
 },
 "nbformat": 4,
 "nbformat_minor": 5
}
